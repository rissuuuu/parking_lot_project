{
 "cells": [
  {
   "cell_type": "code",
   "execution_count": 1,
   "id": "793aba3f",
   "metadata": {},
   "outputs": [],
   "source": [
    "class ParkingLot:\n",
    "    def __init__(self):\n",
    "        self.level_a = [None] * 20\n",
    "        self.level_b = [None] * 20\n",
    "        self.vehicles = {}\n",
    "        \n",
    "    def check_availablity(self):\n",
    "        if None in self.level_a:\n",
    "            return True,self.level_a\n",
    "        elif None in self.level_b:\n",
    "            return True,self.level_b\n",
    "        return False,None\n",
    "    \n",
    "    def check_vehicle_presence(self,vehicle_number):\n",
    "        if vehicle_number in self.level_a or vehicle_number in self.level_b:\n",
    "            return True\n",
    "        return False\n",
    "    \n",
    "    def get_name_from_level(self,level):\n",
    "        if level==self.level_a:\n",
    "            return \"A\"\n",
    "        return \"B\"\n",
    "    \n",
    "    def get_level_from_name(self,name):\n",
    "        if name == \"A\":\n",
    "            return self.level_a\n",
    "        return self.level_b\n",
    "    \n",
    "    def get_accucacy_for_level(self,name):\n",
    "        level_accuracy = {\"A\":1,\"B\":21}\n",
    "        return level_accuracy[name]\n",
    "    \n",
    "    def vehicle_checkin(self, vehicle_number):\n",
    "        if not self.check_vehicle_presence(vehicle_number):\n",
    "            available,slot = self.check_availablity()\n",
    "            if available:\n",
    "                level = self.get_name_from_level(slot)\n",
    "                slot_index = int(slot.index(None))\n",
    "                slot[slot_index]=vehicle_number\n",
    "                accuracy_point = self.get_accucacy_for_level(level)\n",
    "                vehicle_details = {vehicle_number:{'level':level,'spot':slot_index+accuracy_point}}\n",
    "                self.vehicles.update(vehicle_details)\n",
    "                return vehicle_details[vehicle_number]\n",
    "            else:\n",
    "                return \"Parking Full\"\n",
    "        return f\"Vehicle with number {vehicle_number} already present\"\n",
    "\n",
    "    def retrieve_vehicle(self, vehicle_number):\n",
    "        vehicle_details = self.vehicles.get(vehicle_number,None)\n",
    "        if not vehicle_details:\n",
    "            return f\"Vehicle with number {vehicle_number} not found\"\n",
    "        return vehicle_details\n",
    "        \n",
    "    \n",
    "    def vehicle_checkout(self,vehicle_number):\n",
    "        vehicle_details = self.vehicles.pop(vehicle_number,None)\n",
    "        if vehicle_details:\n",
    "            slot = self.get_level_from_name(vehicle_details['level'])\n",
    "            accuracy_point = self.get_accucacy_for_level(vehicle_details['level'])\n",
    "            slot[vehicle_details['spot']-accuracy_point] = None\n",
    "            return f\"Vehicle with number {vehicle_number} succesfully checked out..\"\n",
    "        return f\"Vehicle with number {vehicle_number} not found\""
   ]
  },
  {
   "cell_type": "code",
   "execution_count": 2,
   "id": "26d394fe",
   "metadata": {},
   "outputs": [],
   "source": [
    "p = ParkingLot()\n"
   ]
  },
  {
   "cell_type": "code",
   "execution_count": 3,
   "id": "ec24d381",
   "metadata": {},
   "outputs": [
    {
     "data": {
      "text/plain": [
       "'Vehicle with number Ka1 not found'"
      ]
     },
     "execution_count": 3,
     "metadata": {},
     "output_type": "execute_result"
    }
   ],
   "source": [
    "p.retrieve_vehicle(\"Ka1\")"
   ]
  },
  {
   "cell_type": "code",
   "execution_count": 4,
   "id": "f959a1d8",
   "metadata": {},
   "outputs": [
    {
     "data": {
      "text/plain": [
       "{'level': 'A', 'spot': 1}"
      ]
     },
     "execution_count": 4,
     "metadata": {},
     "output_type": "execute_result"
    }
   ],
   "source": [
    "p.vehicle_checkin(\"KA51\")"
   ]
  },
  {
   "cell_type": "code",
   "execution_count": 5,
   "id": "f7148655",
   "metadata": {},
   "outputs": [],
   "source": [
    "for i,j in enumerate(range(30)):\n",
    "    p.vehicle_checkin(\"KA\"+str(i))"
   ]
  },
  {
   "cell_type": "code",
   "execution_count": 6,
   "id": "313e2bfe",
   "metadata": {},
   "outputs": [
    {
     "data": {
      "text/plain": [
       "'Vehicle with number KA15 succesfully checked out..'"
      ]
     },
     "execution_count": 6,
     "metadata": {},
     "output_type": "execute_result"
    }
   ],
   "source": [
    "p.vehicle_checkout(\"KA15\")"
   ]
  },
  {
   "cell_type": "code",
   "execution_count": 7,
   "id": "9c107898",
   "metadata": {},
   "outputs": [
    {
     "data": {
      "text/plain": [
       "['KA51',\n",
       " 'KA0',\n",
       " 'KA1',\n",
       " 'KA2',\n",
       " 'KA3',\n",
       " 'KA4',\n",
       " 'KA5',\n",
       " 'KA6',\n",
       " 'KA7',\n",
       " 'KA8',\n",
       " 'KA9',\n",
       " 'KA10',\n",
       " 'KA11',\n",
       " 'KA12',\n",
       " 'KA13',\n",
       " 'KA14',\n",
       " None,\n",
       " 'KA16',\n",
       " 'KA17',\n",
       " 'KA18']"
      ]
     },
     "execution_count": 7,
     "metadata": {},
     "output_type": "execute_result"
    }
   ],
   "source": [
    "p.level_a"
   ]
  },
  {
   "cell_type": "code",
   "execution_count": null,
   "id": "c9a144e0",
   "metadata": {},
   "outputs": [],
   "source": []
  },
  {
   "cell_type": "markdown",
   "id": "e8133574",
   "metadata": {},
   "source": [
    "# Please use below execute function to assign vehicle of your choice"
   ]
  },
  {
   "cell_type": "code",
   "execution_count": null,
   "id": "a476bd9f",
   "metadata": {},
   "outputs": [
    {
     "name": "stdout",
     "output_type": "stream",
     "text": [
      "Enter choice\n",
      "1.Park vehicle\n",
      "2.Retrieve vehicle\n",
      "3.Checkout Vehicle\n",
      "0. Exit\n",
      "1\n",
      "Enter vehicle number\n",
      "ka1\n",
      "\n",
      "***** {'level': 'A', 'spot': 1} *****\n",
      "\n",
      "Enter choice\n",
      "1.Park vehicle\n",
      "2.Retrieve vehicle\n",
      "3.Checkout Vehicle\n",
      "0. Exit\n",
      "1\n",
      "Enter vehicle number\n",
      "ka2\n",
      "\n",
      "***** {'level': 'A', 'spot': 2} *****\n",
      "\n",
      "Enter choice\n",
      "1.Park vehicle\n",
      "2.Retrieve vehicle\n",
      "3.Checkout Vehicle\n",
      "0. Exit\n",
      "1\n",
      "Enter vehicle number\n",
      "ka3\n",
      "\n",
      "***** {'level': 'A', 'spot': 3} *****\n",
      "\n",
      "Enter choice\n",
      "1.Park vehicle\n",
      "2.Retrieve vehicle\n",
      "3.Checkout Vehicle\n",
      "0. Exit\n",
      "2\n",
      "Enter vehicle number\n",
      "ka1\n",
      "\n",
      "***** {'level': 'A', 'spot': 1} *****\n",
      "\n",
      "Enter choice\n",
      "1.Park vehicle\n",
      "2.Retrieve vehicle\n",
      "3.Checkout Vehicle\n",
      "0. Exit\n",
      "3\n",
      "Enter vehicle number\n",
      "ka1\n",
      "\n",
      "***** Vehicle with number ka1 succesfully checked out.. *****\n",
      "\n"
     ]
    }
   ],
   "source": [
    "def execute():\n",
    "    p = ParkingLot()\n",
    "    while True:\n",
    "        try:\n",
    "            choice = int(input(\"Enter choice\\n1.Park vehicle\\n2.Retrieve vehicle\\n3.Checkout Vehicle\\n0. Exit\\n\"))\n",
    "        except:\n",
    "            print(\"Please enter valid choice\")\n",
    "            continue\n",
    "        if choice ==0:\n",
    "            break\n",
    "        vehicle_number = input(\"Enter vehicle number\\n\")\n",
    "        match choice:\n",
    "            case 1:\n",
    "                vehicle_details = p.vehicle_checkin(vehicle_number)\n",
    "                print(f\"\\n***** {vehicle_details} *****\\n\")\n",
    "            case 2:\n",
    "                vehicle_details = p.retrieve_vehicle(vehicle_number)\n",
    "                print(f\"\\n***** {vehicle_details} *****\\n\")\n",
    "            case 3:\n",
    "                vehicle_details = p.vehicle_checkout(vehicle_number)\n",
    "                print(f\"\\n***** {vehicle_details} *****\\n\")\n",
    "            case 0:\n",
    "                break\n",
    "execute()"
   ]
  },
  {
   "cell_type": "code",
   "execution_count": null,
   "id": "0cfb1bed",
   "metadata": {},
   "outputs": [],
   "source": []
  },
  {
   "cell_type": "code",
   "execution_count": null,
   "id": "9a50c268",
   "metadata": {},
   "outputs": [],
   "source": []
  },
  {
   "cell_type": "code",
   "execution_count": null,
   "id": "45f12b6a",
   "metadata": {},
   "outputs": [],
   "source": []
  },
  {
   "cell_type": "code",
   "execution_count": null,
   "id": "57c58955",
   "metadata": {},
   "outputs": [],
   "source": []
  }
 ],
 "metadata": {
  "kernelspec": {
   "display_name": "Python 3 (ipykernel)",
   "language": "python",
   "name": "python3"
  },
  "language_info": {
   "codemirror_mode": {
    "name": "ipython",
    "version": 3
   },
   "file_extension": ".py",
   "mimetype": "text/x-python",
   "name": "python",
   "nbconvert_exporter": "python",
   "pygments_lexer": "ipython3",
   "version": "3.11.1"
  }
 },
 "nbformat": 4,
 "nbformat_minor": 5
}
